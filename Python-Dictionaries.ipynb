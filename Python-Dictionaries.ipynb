{
 "cells": [
  {
   "cell_type": "markdown",
   "source": [
    "# Python Dictionary\r\n",
    "\r\n",
    "The python Dictionary is a collection of data in the form of key-value pairs. Consider python Dictionary a \"bag\" or a \"collection\" of values, each with its own and unique label (key).\r\n",
    "\r\n",
    "In python dictionaries, data is stored as a pair of keys and their associated value separated by a colon (:) and wrapped inside the curly braces ({}). Each key-value pair is separated by a comma (,)."
   ],
   "metadata": {}
  },
  {
   "cell_type": "code",
   "execution_count": 77,
   "source": [
    "mydict = {\"name\": \"Shantanu Nighot\", \"age\": 21, \"grade\": \"A\" , \"pass\": True }"
   ],
   "outputs": [],
   "metadata": {}
  },
  {
   "cell_type": "markdown",
   "source": [
    "__________________"
   ],
   "metadata": {}
  },
  {
   "cell_type": "markdown",
   "source": [
    "## Properties of Python dictionaries\r\n",
    "\r\n",
    "### They are mutable\r\n",
    "Python dictionaries are mutable just like the lists. This means elements of the dictionary can be updated or deleted after the dictionary is defined.\r\n",
    "\r\n",
    "### They are ordered\r\n",
    "Python dictionaries are mutable just like the lists. This means elements of the dictionary can be updated or deleted after the dictionary is defined.\r\n",
    "\r\n",
    "### They can be nested.\r\n",
    "Python dictionaries just like lists can have another dictionary or list as a value.\r\n",
    "\r\n",
    "____________________"
   ],
   "metadata": {}
  },
  {
   "cell_type": "markdown",
   "source": [
    "## Keys"
   ],
   "metadata": {}
  },
  {
   "cell_type": "markdown",
   "source": [
    "### Keys must be unique.\r\n",
    "Python dictionaries do not allow duplicate keys. This means any key is unique throughout the dictionary. If there are duplicate keys defined in the dictionary the last appeared key-value pair is considered only."
   ],
   "metadata": {}
  },
  {
   "cell_type": "code",
   "execution_count": 78,
   "source": [
    "mydict = {\"name\": \"Shantanu\", \"age\": 20, \"grades\": \"A\", \"age\": 22}\r\n",
    "mydict"
   ],
   "outputs": [
    {
     "output_type": "execute_result",
     "data": {
      "text/plain": [
       "{'name': 'Shantanu', 'age': 22, 'grades': 'A'}"
      ]
     },
     "metadata": {},
     "execution_count": 78
    }
   ],
   "metadata": {}
  },
  {
   "cell_type": "markdown",
   "source": [
    "You can see that the key “age” appeared multiple times with different values but only the last appearing value (22) is saved in a dictionary."
   ],
   "metadata": {}
  },
  {
   "cell_type": "markdown",
   "source": [
    "### Keys must be immutable\r\n",
    "Keys in the dictionary can be of any immutable data type. For example string, number, boolean or binary data type can be used as a key in a python dictionary. Tuples being immutable can also be used as a dictionary key.\r\n",
    "_________________"
   ],
   "metadata": {}
  },
  {
   "cell_type": "code",
   "execution_count": 79,
   "source": [
    "mydict = {\"name\": \"Shantanu\", 21: \"age\", False: \"Palash\", (1,2): \"numbers\"}\r\n",
    "mydict"
   ],
   "outputs": [
    {
     "output_type": "execute_result",
     "data": {
      "text/plain": [
       "{'name': 'Shantanu', 21: 'age', False: 'Palash', (1, 2): 'numbers'}"
      ]
     },
     "metadata": {},
     "execution_count": 79
    }
   ],
   "metadata": {}
  },
  {
   "cell_type": "markdown",
   "source": [
    "Amazingly, we can also use the python function as a key."
   ],
   "metadata": {}
  },
  {
   "cell_type": "code",
   "execution_count": 80,
   "source": [
    "def name(): print(\"function executed\")\r\n",
    "\r\n",
    "mydict = {name(): \"Shantanu\", False: \"Palash\"}\r\n",
    "\r\n",
    "mydict[name()]"
   ],
   "outputs": [
    {
     "output_type": "stream",
     "name": "stdout",
     "text": [
      "function executed\n",
      "function executed\n"
     ]
    },
    {
     "output_type": "execute_result",
     "data": {
      "text/plain": [
       "'Shantanu'"
      ]
     },
     "metadata": {},
     "execution_count": 80
    }
   ],
   "metadata": {}
  },
  {
   "cell_type": "markdown",
   "source": [
    "You can see that the function is executed two times. First while declaring the dictionary and second when accessing the value from the dictionary.\r\n",
    "\r\n",
    "You can use any of the above-stated data types or a function as a key. But you should have proper reason and logic behind using them, mainly in the case of tuples and functions.\r\n",
    "___________________"
   ],
   "metadata": {}
  },
  {
   "cell_type": "markdown",
   "source": [
    "## Values"
   ],
   "metadata": {}
  },
  {
   "cell_type": "markdown",
   "source": [
    "Unlike Keys, Values don't have any restrictions. They can be of any data type or even another dictionary or List. We can even use functions as a value associated with the dictionary key."
   ],
   "metadata": {}
  },
  {
   "cell_type": "code",
   "execution_count": 81,
   "source": [
    "def fruits(): return [\"apple\", \"oranges\"]\r\n",
    "\r\n",
    "mydict = {\"name\": \"Shantanu\", \"things\": fruits()}\r\n",
    "print(mydict[\"things\"])"
   ],
   "outputs": [
    {
     "output_type": "stream",
     "name": "stdout",
     "text": [
      "['apple', 'oranges']\n"
     ]
    }
   ],
   "metadata": {}
  },
  {
   "cell_type": "markdown",
   "source": [
    "When we access the function from the dictionary using its associated key, the function is executed and returns the value from it instead of the function itself. That's why, above code prints list ```[\"apple\", oranges\"]``` and not ```fruits()```.\r\n",
    "_____________"
   ],
   "metadata": {}
  },
  {
   "cell_type": "markdown",
   "source": [
    "## CRUD operations with a dictionary"
   ],
   "metadata": {}
  },
  {
   "cell_type": "markdown",
   "source": [
    "Till now you got familiar with the dictionary, key, value and their properties. Now, it's time to see how dictionaries work. We will see basic CRUD (Create, Read, Update, Delete) operations on Dictionaries.\r\n",
    "\r\n",
    "- Creating a dictionary\r\n",
    "- Reading/Accessing a dictionary\r\n",
    "- Updating a dictionary\r\n",
    "- Deleting a dictionary"
   ],
   "metadata": {}
  },
  {
   "cell_type": "markdown",
   "source": [
    "### Creating dictionary\r\n",
    "You are already familiar with the syntax of the dictionary and have already created it in previous examples. The dictionary can be created using one or many key-value pairs separated by a comma and enclosed inside curly braces. Each key and its associated value is separated by a colon."
   ],
   "metadata": {}
  },
  {
   "cell_type": "code",
   "execution_count": 82,
   "source": [
    "mydict = {\"name\": \"Shantanu Nighot\", \"age\": 21, \"grade\": \"A\" , \"pass\": True }\r\n",
    "print(type(mydict))"
   ],
   "outputs": [
    {
     "output_type": "stream",
     "name": "stdout",
     "text": [
      "<class 'dict'>\n"
     ]
    }
   ],
   "metadata": {}
  },
  {
   "cell_type": "markdown",
   "source": [
    "It's not necessary to create a dictionary with some data. We can also define an empty dictionary by either using empty curly braces ```{}``` or the ```dict()``` keyword."
   ],
   "metadata": {}
  },
  {
   "cell_type": "code",
   "execution_count": 83,
   "source": [
    "dict1 = {}\r\n",
    "dict2 = dict()\r\n",
    "\r\n",
    "print(type(dict1), type(dict2))\r\n",
    "print(len(dict1), len(dict2))"
   ],
   "outputs": [
    {
     "output_type": "stream",
     "name": "stdout",
     "text": [
      "<class 'dict'> <class 'dict'>\n",
      "0 0\n"
     ]
    }
   ],
   "metadata": {}
  },
  {
   "cell_type": "markdown",
   "source": [
    "____________"
   ],
   "metadata": {}
  },
  {
   "cell_type": "markdown",
   "source": [
    "### Reading/Accessing dictionary\r\n",
    "We can not use numerical indices in dictionaries as we do in lists. And if we do so, Python will raise an exception ```KeyError``` as it can not find a key in the dictionary."
   ],
   "metadata": {}
  },
  {
   "cell_type": "code",
   "execution_count": 84,
   "source": [
    "mydict = {\"fruit\": \"Mango\"}\r\n",
    "mydict[0]"
   ],
   "outputs": [
    {
     "output_type": "error",
     "ename": "KeyError",
     "evalue": "0",
     "traceback": [
      "\u001b[1;31m---------------------------------------------------------------------------\u001b[0m",
      "\u001b[1;31mKeyError\u001b[0m                                  Traceback (most recent call last)",
      "\u001b[1;32m<ipython-input-84-9db418a5ad04>\u001b[0m in \u001b[0;36m<module>\u001b[1;34m\u001b[0m\n\u001b[0;32m      1\u001b[0m \u001b[0mmydict\u001b[0m \u001b[1;33m=\u001b[0m \u001b[1;33m{\u001b[0m\u001b[1;34m\"fruit\"\u001b[0m\u001b[1;33m:\u001b[0m \u001b[1;34m\"Mango\"\u001b[0m\u001b[1;33m}\u001b[0m\u001b[1;33m\u001b[0m\u001b[1;33m\u001b[0m\u001b[0m\n\u001b[1;32m----> 2\u001b[1;33m \u001b[0mmydict\u001b[0m\u001b[1;33m[\u001b[0m\u001b[1;36m0\u001b[0m\u001b[1;33m]\u001b[0m\u001b[1;33m\u001b[0m\u001b[1;33m\u001b[0m\u001b[0m\n\u001b[0m",
      "\u001b[1;31mKeyError\u001b[0m: 0"
     ]
    }
   ],
   "metadata": {}
  },
  {
   "cell_type": "markdown",
   "source": [
    "In python dictionaries, instead of indices, keys are used to access values associated with them."
   ],
   "metadata": {}
  },
  {
   "cell_type": "code",
   "execution_count": null,
   "source": [
    "mydict = {\"name\": \"Shantanu Nighot\", \"age\": 21, \"grade\": \"A\" , \"pass\": True }\r\n",
    "print(mydict[\"name\"])\r\n",
    "print(mydict[\"pass\"])"
   ],
   "outputs": [
    {
     "output_type": "stream",
     "name": "stdout",
     "text": [
      "Shantanu Nighot\n",
      "True\n"
     ]
    }
   ],
   "metadata": {}
  },
  {
   "cell_type": "markdown",
   "source": [
    "From the nested dictionary, values of sublists or subdictionaries can be accessed using an extra index or a key just like in the following example."
   ],
   "metadata": {}
  },
  {
   "cell_type": "code",
   "execution_count": null,
   "source": [
    "mydict = {\"colors\": [\"Skyblue\", \"grey\"], \"fruits\": [\"Orange\", \"Mango\", \"Blueberries\"]}\r\n",
    "print(mydict[\"fruits\"][1])\r\n",
    "print(mydict[\"fruits\"][0:2])"
   ],
   "outputs": [
    {
     "output_type": "stream",
     "name": "stdout",
     "text": [
      "Mango\n",
      "['Orange', 'Mango']\n"
     ]
    }
   ],
   "metadata": {}
  },
  {
   "cell_type": "markdown",
   "source": [
    "There are few built-in dictionary methods like items(), keys(), values(), and get(). They can also be used for accessing the data from the dictionary. We are going to learn about them later in this article.\r\n",
    "\r\n",
    "Now as you got familiar with accessing the data from the dictionaries, you can start working on using them with Python's operators and built-in functions."
   ],
   "metadata": {}
  },
  {
   "cell_type": "code",
   "execution_count": null,
   "source": [
    "numbers = { \"num1\": 10, \"num2\": 13}\r\n",
    "\r\n",
    "print(numbers[\"num1\"] + numbers[\"num2\"])\r\n",
    "print(\"num2\" in numbers)\r\n",
    "print(sorted(mydict, reverse=True))"
   ],
   "outputs": [
    {
     "output_type": "stream",
     "name": "stdout",
     "text": [
      "23\n",
      "True\n",
      "['fruits', 'colors']\n"
     ]
    }
   ],
   "metadata": {}
  },
  {
   "cell_type": "markdown",
   "source": [
    "______________"
   ],
   "metadata": {}
  },
  {
   "cell_type": "markdown",
   "source": [
    "### Updating dictionary\r\n",
    "Any value in the dictionary can be changed by referencing its key. "
   ],
   "metadata": {}
  },
  {
   "cell_type": "code",
   "execution_count": null,
   "source": [
    "numbers = { \"num1\": 10, \"num2\": 13}\r\n",
    "numbers[\"num1\"] = 12\r\n",
    "numbers"
   ],
   "outputs": [
    {
     "output_type": "execute_result",
     "data": {
      "text/plain": [
       "{'num1': 12, 'num2': 13}"
      ]
     },
     "metadata": {},
     "execution_count": 23
    }
   ],
   "metadata": {}
  },
  {
   "cell_type": "markdown",
   "source": [
    "New data can be added using the same above syntax. If the key is present in the dictionary then Python reassigns a new value to a key and if a key is not found then it creates a new key and assigns value to it."
   ],
   "metadata": {}
  },
  {
   "cell_type": "code",
   "execution_count": null,
   "source": [
    "numbers = { \"num1\": 10, \"num2\": 13}\r\n",
    "numbers[\"num3\"] = 12\r\n",
    "numbers"
   ],
   "outputs": [
    {
     "output_type": "execute_result",
     "data": {
      "text/plain": [
       "{'num1': 10, 'num2': 13, 'num3': 12}"
      ]
     },
     "metadata": {},
     "execution_count": 24
    }
   ],
   "metadata": {}
  },
  {
   "cell_type": "markdown",
   "source": [
    "There is a built-in dictionary method update() which is also used to update the data from a dictionary. We will learn about it later in this article.\r\n",
    "___________"
   ],
   "metadata": {}
  },
  {
   "cell_type": "markdown",
   "source": [
    "### Deleting dictionary\r\n",
    "The ```del``` function can be used to delete the whole dictionary. After that, any reference to it will throw a ```NameError```."
   ],
   "metadata": {}
  },
  {
   "cell_type": "code",
   "execution_count": null,
   "source": [
    "numbers = { \"num1\": 10, \"num2\": 13}\r\n",
    "del(numbers)\r\n",
    "numbers[\"num1\"]"
   ],
   "outputs": [
    {
     "output_type": "error",
     "ename": "NameError",
     "evalue": "name 'numbers' is not defined",
     "traceback": [
      "\u001b[1;31m---------------------------------------------------------------------------\u001b[0m",
      "\u001b[1;31mNameError\u001b[0m                                 Traceback (most recent call last)",
      "\u001b[1;32m<ipython-input-25-74b23d901be2>\u001b[0m in \u001b[0;36m<module>\u001b[1;34m\u001b[0m\n\u001b[0;32m      1\u001b[0m \u001b[0mnumbers\u001b[0m \u001b[1;33m=\u001b[0m \u001b[1;33m{\u001b[0m \u001b[1;34m\"num1\"\u001b[0m\u001b[1;33m:\u001b[0m \u001b[1;36m10\u001b[0m\u001b[1;33m,\u001b[0m \u001b[1;34m\"num2\"\u001b[0m\u001b[1;33m:\u001b[0m \u001b[1;36m13\u001b[0m\u001b[1;33m}\u001b[0m\u001b[1;33m\u001b[0m\u001b[1;33m\u001b[0m\u001b[0m\n\u001b[0;32m      2\u001b[0m \u001b[1;32mdel\u001b[0m\u001b[1;33m(\u001b[0m\u001b[0mnumbers\u001b[0m\u001b[1;33m)\u001b[0m\u001b[1;33m\u001b[0m\u001b[1;33m\u001b[0m\u001b[0m\n\u001b[1;32m----> 3\u001b[1;33m \u001b[0mnumbers\u001b[0m\u001b[1;33m[\u001b[0m\u001b[1;34m\"num1\"\u001b[0m\u001b[1;33m]\u001b[0m\u001b[1;33m\u001b[0m\u001b[1;33m\u001b[0m\u001b[0m\n\u001b[0m",
      "\u001b[1;31mNameError\u001b[0m: name 'numbers' is not defined"
     ]
    }
   ],
   "metadata": {}
  },
  {
   "cell_type": "markdown",
   "source": [
    "If you do not want to delete the dictionary and just want to delete data in it, then you can assign an empty dictionary to it."
   ],
   "metadata": {}
  },
  {
   "cell_type": "code",
   "execution_count": null,
   "source": [
    "numbers = { \"num1\": 10, \"num2\": 13}\r\n",
    "numbers = {}\r\n",
    "numbers"
   ],
   "outputs": [
    {
     "output_type": "execute_result",
     "data": {
      "text/plain": [
       "{}"
      ]
     },
     "metadata": {},
     "execution_count": 26
    }
   ],
   "metadata": {}
  },
  {
   "cell_type": "markdown",
   "source": [
    "There are few built-in dictionary methods used to perform deleting operations on dictionaries. We are going to learn about them in the next topic.\r\n",
    "______"
   ],
   "metadata": {}
  },
  {
   "cell_type": "markdown",
   "source": [
    "## Built-in dictionary methods\r\n",
    "- items()\r\n",
    "- keys()\r\n",
    "- values()\r\n",
    "- get()\r\n",
    "- update()\r\n",
    "- clear()\r\n",
    "- pop()\r\n",
    "- popitem()"
   ],
   "metadata": {}
  },
  {
   "cell_type": "markdown",
   "source": [
    "### .items()\r\n",
    "This method returns the list of tuples containing key-value pairs from a dictionary. The first element of each tuple is the key and the second element is the value associated with that key."
   ],
   "metadata": {}
  },
  {
   "cell_type": "code",
   "execution_count": null,
   "source": [
    "numbers = { \"num1\": 10, \"num2\": 13, \"num3\": 23}\r\n",
    "print(numbers.items())\r\n",
    "print(type(numbers.items()))"
   ],
   "outputs": [
    {
     "output_type": "stream",
     "name": "stdout",
     "text": [
      "dict_items([('num1', 10), ('num2', 13), ('num3', 23)])\n",
      "<class 'dict_items'>\n"
     ]
    }
   ],
   "metadata": {}
  },
  {
   "cell_type": "markdown",
   "source": [
    "You can see that the method returns the data of type \"dict_items\". Hence, we need to convert it into a list so that we can access them using normal indexing."
   ],
   "metadata": {}
  },
  {
   "cell_type": "code",
   "execution_count": null,
   "source": [
    "numbers = { \"num1\": 10, \"num2\": 13, \"num3\": 23}\r\n",
    "print(list(numbers.items()))\r\n",
    "print(list(numbers.items())[1][1])"
   ],
   "outputs": [
    {
     "output_type": "stream",
     "name": "stdout",
     "text": [
      "[('num1', 10), ('num2', 13), ('num3', 23)]\n",
      "13\n"
     ]
    }
   ],
   "metadata": {}
  },
  {
   "cell_type": "markdown",
   "source": [
    "Mostly, the items() method is used while working with for loops and dictionaries."
   ],
   "metadata": {}
  },
  {
   "cell_type": "code",
   "execution_count": null,
   "source": [
    "numbers = { \"num1\": 10, \"num2\": 13, \"num3\": 23}\r\n",
    "for k, v in numbers.items():\r\n",
    "    print(k, v)"
   ],
   "outputs": [
    {
     "output_type": "stream",
     "name": "stdout",
     "text": [
      "num1 10\n",
      "num2 13\n",
      "num3 23\n"
     ]
    }
   ],
   "metadata": {}
  },
  {
   "cell_type": "markdown",
   "source": [
    "__________"
   ],
   "metadata": {}
  },
  {
   "cell_type": "markdown",
   "source": [
    "### .keys()\r\n",
    "This method returns the list of all keys in the dictionary. The return type is \"dict_keys\", hence we need to convert it into a list using list() so that we can use normal indexing."
   ],
   "metadata": {}
  },
  {
   "cell_type": "code",
   "execution_count": null,
   "source": [
    "numbers = { \"num1\": 10, \"num2\": 13, \"num3\": 23}\r\n",
    "print(list(numbers.keys()))\r\n",
    "\r\n",
    "for key in numbers.keys():\r\n",
    "    print(numbers[key])"
   ],
   "outputs": [
    {
     "output_type": "stream",
     "name": "stdout",
     "text": [
      "['num1', 'num2', 'num3']\n",
      "10\n",
      "13\n",
      "23\n"
     ]
    }
   ],
   "metadata": {}
  },
  {
   "cell_type": "markdown",
   "source": [
    "________"
   ],
   "metadata": {}
  },
  {
   "cell_type": "markdown",
   "source": [
    "### .values()\r\n",
    "This method returns the list of all values in the dictionary. The return type is \"dict_values\", hence we need to convert it into a list for using normal indexing."
   ],
   "metadata": {}
  },
  {
   "cell_type": "code",
   "execution_count": null,
   "source": [
    "numbers = { \"num1\": 10, \"num2\": 13, \"num3\": 23}\r\n",
    "list(numbers.values())"
   ],
   "outputs": [
    {
     "output_type": "execute_result",
     "data": {
      "text/plain": [
       "[10, 13, 23]"
      ]
     },
     "metadata": {},
     "execution_count": 50
    }
   ],
   "metadata": {}
  },
  {
   "cell_type": "markdown",
   "source": [
    "___"
   ],
   "metadata": {}
  },
  {
   "cell_type": "markdown",
   "source": [
    "### .get(key, default_value)\r\n",
    "This method returns the value associated with the key if it's present in the dictionary else returns None. This method does not raise KeyError if the key is not found in the dictionary and returns the default value which is None by default."
   ],
   "metadata": {}
  },
  {
   "cell_type": "code",
   "execution_count": null,
   "source": [
    "numbers = { \"num1\": 10, \"num2\": 13, \"num3\": 23}\r\n",
    "print(numbers.get(\"num3\"))\r\n",
    "print(numbers.get(\"num4\"))"
   ],
   "outputs": [
    {
     "output_type": "stream",
     "name": "stdout",
     "text": [
      "23\n",
      "None\n"
     ]
    }
   ],
   "metadata": {}
  },
  {
   "cell_type": "markdown",
   "source": [
    "The second argument is optional but can be very helpful when we want to return a specific value when the key is not found."
   ],
   "metadata": {}
  },
  {
   "cell_type": "code",
   "execution_count": null,
   "source": [
    "numbers = { \"num1\": 10, \"num2\": 13, \"num3\": 23}\r\n",
    "numbers.get(\"num5\", 0)"
   ],
   "outputs": [
    {
     "output_type": "execute_result",
     "data": {
      "text/plain": [
       "0"
      ]
     },
     "metadata": {},
     "execution_count": 53
    }
   ],
   "metadata": {}
  },
  {
   "cell_type": "markdown",
   "source": [
    "___________"
   ],
   "metadata": {}
  },
  {
   "cell_type": "markdown",
   "source": [
    "### .update()\r\n",
    "This method is used to update existing data and to add new entries to the dictionary. There are several ways of using the ```update()``` method."
   ],
   "metadata": {}
  },
  {
   "cell_type": "code",
   "execution_count": null,
   "source": [
    "numbers = { \"num1\": 10, \"num2\": 13, \"num3\": 23}\r\n",
    "numbers.update({\"num2\": 5, \"num4\": 10})\r\n",
    "print(numbers)\r\n",
    "\r\n",
    "numbers.update([(\"num5\", 4), (\"num2\", 11)])\r\n",
    "print(numbers)\r\n",
    "\r\n",
    "numbers.update(num1=0, num6=2)\r\n",
    "print(numbers)"
   ],
   "outputs": [
    {
     "output_type": "stream",
     "name": "stdout",
     "text": [
      "{'num1': 10, 'num2': 5, 'num3': 23, 'num4': 10}\n",
      "{'num1': 10, 'num2': 11, 'num3': 23, 'num4': 10, 'num5': 4}\n",
      "{'num1': 0, 'num2': 11, 'num3': 23, 'num4': 10, 'num5': 4, 'num6': 2}\n"
     ]
    }
   ],
   "metadata": {}
  },
  {
   "cell_type": "markdown",
   "source": [
    "_____"
   ],
   "metadata": {}
  },
  {
   "cell_type": "markdown",
   "source": [
    "### .clear()\r\n",
    "This method is used to remove all key-value pairs from the dictionary."
   ],
   "metadata": {}
  },
  {
   "cell_type": "code",
   "execution_count": null,
   "source": [
    "numbers = { \"num1\": 10, \"num2\": 13, \"num3\": 23}\r\n",
    "numbers.clear()\r\n",
    "numbers"
   ],
   "outputs": [
    {
     "output_type": "execute_result",
     "data": {
      "text/plain": [
       "{}"
      ]
     },
     "metadata": {},
     "execution_count": 56
    }
   ],
   "metadata": {}
  },
  {
   "cell_type": "markdown",
   "source": [
    "_____"
   ],
   "metadata": {}
  },
  {
   "cell_type": "markdown",
   "source": [
    "### .pop(key, default_value)\r\n",
    "This method returns the value associated with the key and removes the key-value pair from the dictionary."
   ],
   "metadata": {}
  },
  {
   "cell_type": "code",
   "execution_count": null,
   "source": [
    "numbers = { \"num1\": 10, \"num2\": 13, \"num3\": 23}\r\n",
    "print(numbers.pop(\"num2\"))\r\n",
    "print(numbers)"
   ],
   "outputs": [
    {
     "output_type": "stream",
     "name": "stdout",
     "text": [
      "13\n",
      "{'num1': 10, 'num3': 23}\n"
     ]
    }
   ],
   "metadata": {}
  },
  {
   "cell_type": "markdown",
   "source": [
    "If the key is not present in the dictionary then python raises an exception KeyError. Hence, it is recommended to provide default value as a second argument. This default value will be returned if the key is not found in the dictionary."
   ],
   "metadata": {}
  },
  {
   "cell_type": "code",
   "execution_count": null,
   "source": [
    "numbers = { \"num1\": 10, \"num2\": 13, \"num3\": 23}\r\n",
    "print(numbers.pop(\"num4\", 0))\r\n",
    "print(numbers)"
   ],
   "outputs": [
    {
     "output_type": "stream",
     "name": "stdout",
     "text": [
      "0\n",
      "{'num1': 10, 'num2': 13, 'num3': 23}\n"
     ]
    }
   ],
   "metadata": {}
  },
  {
   "cell_type": "markdown",
   "source": [
    "### .popitem()\r\n",
    "This method returns the last key-value pair as a tuple and removes it from the dictionary. If the dictionary is empty, it raises an exception ```KeyError```."
   ],
   "metadata": {}
  },
  {
   "cell_type": "code",
   "execution_count": null,
   "source": [
    "numbers = { \"num1\": 10, \"num2\": 13, \"num3\": 23}\r\n",
    "print(numbers.popitem())\r\n",
    "print(numbers)"
   ],
   "outputs": [
    {
     "output_type": "stream",
     "name": "stdout",
     "text": [
      "('num3', 23)\n",
      "{'num1': 10, 'num2': 13}\n"
     ]
    }
   ],
   "metadata": {}
  },
  {
   "cell_type": "markdown",
   "source": [
    "____"
   ],
   "metadata": {}
  },
  {
   "cell_type": "markdown",
   "source": [
    "## Summary\r\n",
    "- Python dictionary is the collection where data is store in the form of key-value pairs.\r\n",
    "- Python dictionaries are immutable, ordered and can be nested.\r\n",
    "- Keys must be of immutable data type whereas values can be of any data type.\r\n",
    "- Functions and few python keywords can also be used as keys and values.\r\n",
    "- There are few built-in dictionary methods that make it easier to work with dictionaries."
   ],
   "metadata": {}
  }
 ],
 "metadata": {
  "orig_nbformat": 4,
  "language_info": {
   "name": "python",
   "version": "3.9.1",
   "mimetype": "text/x-python",
   "codemirror_mode": {
    "name": "ipython",
    "version": 3
   },
   "pygments_lexer": "ipython3",
   "nbconvert_exporter": "python",
   "file_extension": ".py"
  },
  "kernelspec": {
   "name": "python3",
   "display_name": "Python 3.9.1 64-bit"
  },
  "interpreter": {
   "hash": "bf974ee6604d66071c1660997eccd9eaf90f166e815410a8f45030e99b0011f2"
  }
 },
 "nbformat": 4,
 "nbformat_minor": 2
}